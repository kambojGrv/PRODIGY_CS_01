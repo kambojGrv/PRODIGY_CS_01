{
 "cells": [
  {
   "cell_type": "code",
   "execution_count": 4,
   "id": "fec1e400-3976-47f7-96b0-d1b1821feff9",
   "metadata": {},
   "outputs": [
    {
     "name": "stdout",
     "output_type": "stream",
     "text": [
      "Welcome to the Caesar Cipher Program!\n",
      "This tool lets you hide or reveal secret messages by shifting letters.\n",
      "\n"
     ]
    },
    {
     "name": "stdin",
     "output_type": "stream",
     "text": [
      "Please enter your message:  hello isha \n",
      "Enter a shift number (e.g., 1, 3, 5):  5\n",
      "Type 'e' to encrypt or 'd' to decrypt:  d\n"
     ]
    },
    {
     "name": "stdout",
     "output_type": "stream",
     "text": [
      "🔓 Decrypted Message: czggj dncv \n"
     ]
    }
   ],
   "source": [
    "def encrypt(message, shift):\n",
    "    encrypted_text = \"\"\n",
    "    for char in message:\n",
    "        if char.isalpha():  # Check if the character is a letter\n",
    "            base = ord('A') if char.isupper() else ord('a')\n",
    "            # Shift the letter and wrap around the alphabet\n",
    "            new_char = chr((ord(char) - base + shift) % 26 + base)\n",
    "            encrypted_text += new_char\n",
    "        else:\n",
    "            encrypted_text += char  # Keep non-letters unchanged\n",
    "    return encrypted_text\n",
    "\n",
    "def decrypt(message, shift):\n",
    "    return encrypt(message, -shift)\n",
    "\n",
    "# --- Main Program ---\n",
    "\n",
    "print(\"Welcome to the Caesar Cipher Program!\")\n",
    "print(\"This tool lets you hide or reveal secret messages by shifting letters.\\n\")\n",
    "\n",
    "message = input(\"Please enter your message: \")\n",
    "\n",
    "while True:\n",
    "    try:\n",
    "        shift = int(input(\"Enter a shift number (e.g., 1, 3, 5): \"))\n",
    "        break\n",
    "    except ValueError:\n",
    "        print(\"❗ Please enter a valid number.\")\n",
    "\n",
    "action = input(\"Type 'e' to encrypt or 'd' to decrypt: \").lower()\n",
    "\n",
    "if action == 'e':\n",
    "    result = encrypt(message, shift)\n",
    "    print(\"🔒 Encrypted Message:\", result)\n",
    "elif action == 'd':\n",
    "    result = decrypt(message, shift)\n",
    "    print(\"🔓 Decrypted Message:\", result)\n",
    "else:\n",
    "    print(\"⚠️ Oops! Please enter only 'e' to encrypt or 'd' to decrypt.\")\n"
   ]
  },
  {
   "cell_type": "code",
   "execution_count": null,
   "id": "0f0185dd-7d08-4375-b108-be387d19a8b6",
   "metadata": {},
   "outputs": [],
   "source": []
  }
 ],
 "metadata": {
  "kernelspec": {
   "display_name": "Python 3 (ipykernel)",
   "language": "python",
   "name": "python3"
  },
  "language_info": {
   "codemirror_mode": {
    "name": "ipython",
    "version": 3
   },
   "file_extension": ".py",
   "mimetype": "text/x-python",
   "name": "python",
   "nbconvert_exporter": "python",
   "pygments_lexer": "ipython3",
   "version": "3.12.4"
  }
 },
 "nbformat": 4,
 "nbformat_minor": 5
}
